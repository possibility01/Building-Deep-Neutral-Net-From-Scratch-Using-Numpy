{
 "cells": [
  {
   "cell_type": "code",
   "execution_count": 56,
   "metadata": {},
   "outputs": [],
   "source": [
    "import pandas as pd\n",
    "import numpy as np\n",
    "import matplotlib.pyplot as plt\n",
    "from pathlib import Path"
   ]
  },
  {
   "cell_type": "code",
   "execution_count": 57,
   "metadata": {},
   "outputs": [
    {
     "data": {
      "text/html": [
       "<div>\n",
       "<style scoped>\n",
       "    .dataframe tbody tr th:only-of-type {\n",
       "        vertical-align: middle;\n",
       "    }\n",
       "\n",
       "    .dataframe tbody tr th {\n",
       "        vertical-align: top;\n",
       "    }\n",
       "\n",
       "    .dataframe thead th {\n",
       "        text-align: right;\n",
       "    }\n",
       "</style>\n",
       "<table border=\"1\" class=\"dataframe\">\n",
       "  <thead>\n",
       "    <tr style=\"text-align: right;\">\n",
       "      <th></th>\n",
       "      <th>1000025</th>\n",
       "      <th>5</th>\n",
       "      <th>1</th>\n",
       "      <th>1.1</th>\n",
       "      <th>1.2</th>\n",
       "      <th>2</th>\n",
       "      <th>1.3</th>\n",
       "      <th>3</th>\n",
       "      <th>1.4</th>\n",
       "      <th>1.5</th>\n",
       "      <th>2.1</th>\n",
       "    </tr>\n",
       "  </thead>\n",
       "  <tbody>\n",
       "    <tr>\n",
       "      <th>0</th>\n",
       "      <td>1002945</td>\n",
       "      <td>5</td>\n",
       "      <td>4</td>\n",
       "      <td>4</td>\n",
       "      <td>5</td>\n",
       "      <td>7</td>\n",
       "      <td>10</td>\n",
       "      <td>3</td>\n",
       "      <td>2</td>\n",
       "      <td>1</td>\n",
       "      <td>2</td>\n",
       "    </tr>\n",
       "    <tr>\n",
       "      <th>1</th>\n",
       "      <td>1015425</td>\n",
       "      <td>3</td>\n",
       "      <td>1</td>\n",
       "      <td>1</td>\n",
       "      <td>1</td>\n",
       "      <td>2</td>\n",
       "      <td>2</td>\n",
       "      <td>3</td>\n",
       "      <td>1</td>\n",
       "      <td>1</td>\n",
       "      <td>2</td>\n",
       "    </tr>\n",
       "    <tr>\n",
       "      <th>2</th>\n",
       "      <td>1016277</td>\n",
       "      <td>6</td>\n",
       "      <td>8</td>\n",
       "      <td>8</td>\n",
       "      <td>1</td>\n",
       "      <td>3</td>\n",
       "      <td>4</td>\n",
       "      <td>3</td>\n",
       "      <td>7</td>\n",
       "      <td>1</td>\n",
       "      <td>2</td>\n",
       "    </tr>\n",
       "    <tr>\n",
       "      <th>3</th>\n",
       "      <td>1017023</td>\n",
       "      <td>4</td>\n",
       "      <td>1</td>\n",
       "      <td>1</td>\n",
       "      <td>3</td>\n",
       "      <td>2</td>\n",
       "      <td>1</td>\n",
       "      <td>3</td>\n",
       "      <td>1</td>\n",
       "      <td>1</td>\n",
       "      <td>2</td>\n",
       "    </tr>\n",
       "    <tr>\n",
       "      <th>4</th>\n",
       "      <td>1017122</td>\n",
       "      <td>8</td>\n",
       "      <td>10</td>\n",
       "      <td>10</td>\n",
       "      <td>8</td>\n",
       "      <td>7</td>\n",
       "      <td>10</td>\n",
       "      <td>9</td>\n",
       "      <td>7</td>\n",
       "      <td>1</td>\n",
       "      <td>4</td>\n",
       "    </tr>\n",
       "  </tbody>\n",
       "</table>\n",
       "</div>"
      ],
      "text/plain": [
       "   1000025  5   1  1.1  1.2  2 1.3  3  1.4  1.5  2.1\n",
       "0  1002945  5   4    4    5  7  10  3    2    1    2\n",
       "1  1015425  3   1    1    1  2   2  3    1    1    2\n",
       "2  1016277  6   8    8    1  3   4  3    7    1    2\n",
       "3  1017023  4   1    1    3  2   1  3    1    1    2\n",
       "4  1017122  8  10   10    8  7  10  9    7    1    4"
      ]
     },
     "execution_count": 57,
     "metadata": {},
     "output_type": "execute_result"
    }
   ],
   "source": [
    "data_path =  Path('breast-cancer-wisconsin.data')\n",
    "data  = pd.read_csv(data_path)\n",
    "data.head()"
   ]
  },
  {
   "cell_type": "code",
   "execution_count": 58,
   "metadata": {},
   "outputs": [],
   "source": [
    "headers = ['id','Clump Thickness','Uniformity of Cell Size','Uniformity of Cell Shape','Marginal Adhesion'\n",
    "           ,'Single Epithelial Cell Size','Bare Nuclei','Bland Chromatin','Normal Nucleoli','Mitoses','Class']"
   ]
  },
  {
   "cell_type": "code",
   "execution_count": 59,
   "metadata": {},
   "outputs": [
    {
     "data": {
      "text/html": [
       "<div>\n",
       "<style scoped>\n",
       "    .dataframe tbody tr th:only-of-type {\n",
       "        vertical-align: middle;\n",
       "    }\n",
       "\n",
       "    .dataframe tbody tr th {\n",
       "        vertical-align: top;\n",
       "    }\n",
       "\n",
       "    .dataframe thead th {\n",
       "        text-align: right;\n",
       "    }\n",
       "</style>\n",
       "<table border=\"1\" class=\"dataframe\">\n",
       "  <thead>\n",
       "    <tr style=\"text-align: right;\">\n",
       "      <th></th>\n",
       "      <th>id</th>\n",
       "      <th>Clump Thickness</th>\n",
       "      <th>Uniformity of Cell Size</th>\n",
       "      <th>Uniformity of Cell Shape</th>\n",
       "      <th>Marginal Adhesion</th>\n",
       "      <th>Single Epithelial Cell Size</th>\n",
       "      <th>Bare Nuclei</th>\n",
       "      <th>Bland Chromatin</th>\n",
       "      <th>Normal Nucleoli</th>\n",
       "      <th>Mitoses</th>\n",
       "      <th>Class</th>\n",
       "    </tr>\n",
       "  </thead>\n",
       "  <tbody>\n",
       "    <tr>\n",
       "      <th>0</th>\n",
       "      <td>1000025</td>\n",
       "      <td>5</td>\n",
       "      <td>1</td>\n",
       "      <td>1</td>\n",
       "      <td>1</td>\n",
       "      <td>2</td>\n",
       "      <td>1</td>\n",
       "      <td>3</td>\n",
       "      <td>1</td>\n",
       "      <td>1</td>\n",
       "      <td>2</td>\n",
       "    </tr>\n",
       "    <tr>\n",
       "      <th>1</th>\n",
       "      <td>1002945</td>\n",
       "      <td>5</td>\n",
       "      <td>4</td>\n",
       "      <td>4</td>\n",
       "      <td>5</td>\n",
       "      <td>7</td>\n",
       "      <td>10</td>\n",
       "      <td>3</td>\n",
       "      <td>2</td>\n",
       "      <td>1</td>\n",
       "      <td>2</td>\n",
       "    </tr>\n",
       "    <tr>\n",
       "      <th>2</th>\n",
       "      <td>1015425</td>\n",
       "      <td>3</td>\n",
       "      <td>1</td>\n",
       "      <td>1</td>\n",
       "      <td>1</td>\n",
       "      <td>2</td>\n",
       "      <td>2</td>\n",
       "      <td>3</td>\n",
       "      <td>1</td>\n",
       "      <td>1</td>\n",
       "      <td>2</td>\n",
       "    </tr>\n",
       "    <tr>\n",
       "      <th>3</th>\n",
       "      <td>1016277</td>\n",
       "      <td>6</td>\n",
       "      <td>8</td>\n",
       "      <td>8</td>\n",
       "      <td>1</td>\n",
       "      <td>3</td>\n",
       "      <td>4</td>\n",
       "      <td>3</td>\n",
       "      <td>7</td>\n",
       "      <td>1</td>\n",
       "      <td>2</td>\n",
       "    </tr>\n",
       "    <tr>\n",
       "      <th>4</th>\n",
       "      <td>1017023</td>\n",
       "      <td>4</td>\n",
       "      <td>1</td>\n",
       "      <td>1</td>\n",
       "      <td>3</td>\n",
       "      <td>2</td>\n",
       "      <td>1</td>\n",
       "      <td>3</td>\n",
       "      <td>1</td>\n",
       "      <td>1</td>\n",
       "      <td>2</td>\n",
       "    </tr>\n",
       "  </tbody>\n",
       "</table>\n",
       "</div>"
      ],
      "text/plain": [
       "        id  Clump Thickness  Uniformity of Cell Size  \\\n",
       "0  1000025                5                        1   \n",
       "1  1002945                5                        4   \n",
       "2  1015425                3                        1   \n",
       "3  1016277                6                        8   \n",
       "4  1017023                4                        1   \n",
       "\n",
       "   Uniformity of Cell Shape  Marginal Adhesion  Single Epithelial Cell Size  \\\n",
       "0                         1                  1                            2   \n",
       "1                         4                  5                            7   \n",
       "2                         1                  1                            2   \n",
       "3                         8                  1                            3   \n",
       "4                         1                  3                            2   \n",
       "\n",
       "  Bare Nuclei  Bland Chromatin  Normal Nucleoli  Mitoses  Class  \n",
       "0           1                3                1        1      2  \n",
       "1          10                3                2        1      2  \n",
       "2           2                3                1        1      2  \n",
       "3           4                3                7        1      2  \n",
       "4           1                3                1        1      2  "
      ]
     },
     "execution_count": 59,
     "metadata": {},
     "output_type": "execute_result"
    }
   ],
   "source": [
    "data = pd.read_csv(data_path,names=headers)\n",
    "data.head()"
   ]
  },
  {
   "cell_type": "code",
   "execution_count": 60,
   "metadata": {},
   "outputs": [
    {
     "data": {
      "text/plain": [
       "2    458\n",
       "4    241\n",
       "Name: Class, dtype: int64"
      ]
     },
     "execution_count": 60,
     "metadata": {},
     "output_type": "execute_result"
    }
   ],
   "source": [
    "data['Class'].value_counts()"
   ]
  },
  {
   "cell_type": "code",
   "execution_count": 61,
   "metadata": {},
   "outputs": [],
   "source": [
    "data['Class'] = data['Class'].map({2:0 , 4:1})"
   ]
  },
  {
   "cell_type": "code",
   "execution_count": 62,
   "metadata": {},
   "outputs": [
    {
     "data": {
      "text/plain": [
       "0    458\n",
       "1    241\n",
       "Name: Class, dtype: int64"
      ]
     },
     "execution_count": 62,
     "metadata": {},
     "output_type": "execute_result"
    }
   ],
   "source": [
    "data['Class'].value_counts()"
   ]
  },
  {
   "cell_type": "code",
   "execution_count": 63,
   "metadata": {},
   "outputs": [
    {
     "data": {
      "text/plain": [
       "id                             0\n",
       "Clump Thickness                0\n",
       "Uniformity of Cell Size        0\n",
       "Uniformity of Cell Shape       0\n",
       "Marginal Adhesion              0\n",
       "Single Epithelial Cell Size    0\n",
       "Bare Nuclei                    0\n",
       "Bland Chromatin                0\n",
       "Normal Nucleoli                0\n",
       "Mitoses                        0\n",
       "Class                          0\n",
       "dtype: int64"
      ]
     },
     "execution_count": 63,
     "metadata": {},
     "output_type": "execute_result"
    }
   ],
   "source": [
    "data.isnull().sum()"
   ]
  },
  {
   "cell_type": "code",
   "execution_count": 64,
   "metadata": {},
   "outputs": [
    {
     "data": {
      "text/plain": [
       "array(['1', '10', '2', '4', '3', '9', '7', '?', '5', '8', '6'],\n",
       "      dtype=object)"
      ]
     },
     "execution_count": 64,
     "metadata": {},
     "output_type": "execute_result"
    }
   ],
   "source": [
    "data['Bare Nuclei'].unique()"
   ]
  },
  {
   "cell_type": "code",
   "execution_count": 65,
   "metadata": {},
   "outputs": [],
   "source": [
    "data['Bare Nuclei'] = data['Bare Nuclei'].replace('?','1')"
   ]
  },
  {
   "cell_type": "code",
   "execution_count": 66,
   "metadata": {},
   "outputs": [],
   "source": [
    "data = data.astype('int64')"
   ]
  },
  {
   "cell_type": "code",
   "execution_count": 67,
   "metadata": {},
   "outputs": [],
   "source": [
    "data.drop(columns='id',inplace=True)"
   ]
  },
  {
   "cell_type": "code",
   "execution_count": 68,
   "metadata": {},
   "outputs": [],
   "source": [
    "from sklearn.preprocessing import StandardScaler\n",
    "x = data.drop(columns= 'Class')\n",
    "y = data[\"Class\"].values.reshape(-1,1)\n",
    "from sklearn.model_selection import train_test_split\n",
    "x_train,x_test,y_train,y_test = train_test_split(x,y,test_size=0.2,random_state=100)\n",
    "scaler = StandardScaler()\n",
    "scaler.fit(x_train)\n",
    "x_train = scaler.transform(x_train)\n",
    "x_test = scaler.transform(x_test)"
   ]
  },
  {
   "cell_type": "markdown",
   "metadata": {},
   "source": [
    "# NEURAL NETWORK"
   ]
  },
  {
   "cell_type": "code",
   "execution_count": 69,
   "metadata": {},
   "outputs": [],
   "source": [
    "layers = [9,2,1]\n",
    "learning_rate = 0.001\n",
    "np.random.seed(3)\n",
    "params = {}\n",
    "params['W1'] =  np.random.randn(layers[0],layers[1])\n",
    "params['W2'] = np.random.randn(layers[1],layers[2])\n",
    "params['b1'] = np.random.rand(layers[1])\n",
    "params['b2'] = np.random.rand(layers[2])"
   ]
  },
  {
   "cell_type": "code",
   "execution_count": 70,
   "metadata": {},
   "outputs": [],
   "source": [
    "##Activaton function\n",
    "def relu(z):\n",
    "    return np.maximum(0,z)\n",
    "\n",
    "def sigmoid(z):\n",
    "    return 1.0 / (1.0 + np.exp(-z))\n",
    "##Loss Function\n",
    "def binary_cross_entropy(y,y_hat):\n",
    "    loss = -1/len(y) * (np.sum(np.multiply(np.log(y_hat),y) + np.multiply((1-y),np.log(1-y_hat)))) \n",
    "    return loss\n",
    "x = x_train\n",
    "y = y_train"
   ]
  },
  {
   "cell_type": "markdown",
   "metadata": {},
   "source": [
    "# Foward and Backward Propagation"
   ]
  },
  {
   "cell_type": "code",
   "execution_count": 71,
   "metadata": {},
   "outputs": [],
   "source": [
    "iterations = 150\n",
    "loss_list = []\n",
    "for i in range(iterations):\n",
    "    z1 = x.dot(params['W1'])+ params['b1']\n",
    "    A1 = relu(z1)\n",
    "    z2 = A1.dot(params['W2'])+ params['b2']\n",
    "    y_hat= sigmoid(z2)\n",
    "    loss  = binary_cross_entropy(y,y_hat)\n",
    "    loss_list.append(loss)\n",
    "\n",
    "\n",
    "# Backward propagation\n",
    "\n",
    "    dl_wrt_y_hat = -(np.divide(y,y_hat) - np.divide((1-y),(1-y_hat)))\n",
    "    dl_wrt_z2 = dl_wrt_y_hat * (y_hat * (1-y_hat)) \n",
    "    dl_wrt_A1 = dl_wrt_z2.dot(params['W2'].T)\n",
    "    dl_wrt_w2 = A1.T.dot(dl_wrt_z2)\n",
    "    dl_wrt_b2 = np.sum(dl_wrt_z2)\n",
    "\n",
    "    def drelu(x):\n",
    "        x[x<=0] = 0\n",
    "        x[x>0]  = 1\n",
    "        return x\n",
    "\n",
    "    dl_wrt_z1 = dl_wrt_A1 * drelu(z1)\n",
    "    dl_wrt_w1 = x.T.dot(dl_wrt_z1)\n",
    "    dl_wrt_b1 = np.sum(dl_wrt_z1,axis=0)\n",
    "\n",
    "\n",
    "    #update weights and biases\n",
    "    params['W1'] = params['W1'] - learning_rate * dl_wrt_w1\n",
    "    params['W2'] = params['W2'] - learning_rate * dl_wrt_w2\n",
    "    params['b1'] = params['b1'] - learning_rate * dl_wrt_b1\n",
    "    params['b2'] = params['b2'] - learning_rate * dl_wrt_b2"
   ]
  },
  {
   "cell_type": "code",
   "execution_count": 72,
   "metadata": {},
   "outputs": [
    {
     "data": {
      "text/plain": [
       "[0.6797492893937099,\n",
       " 0.3897050951499985,\n",
       " 0.2968164952578836,\n",
       " 0.250299508951015,\n",
       " 0.22154788363675912,\n",
       " 0.2006342537997524,\n",
       " 0.1847480368162859,\n",
       " 0.17250538180468403,\n",
       " 0.1626785547803082,\n",
       " 0.15429639244585064,\n",
       " 0.147237578910972,\n",
       " 0.14101445063649234,\n",
       " 0.13544278745107588,\n",
       " 0.13065394632825073,\n",
       " 0.1264739584762625,\n",
       " 0.1228626967106338,\n",
       " 0.1196694780271562,\n",
       " 0.11672633489290027,\n",
       " 0.11390187417955393,\n",
       " 0.11136284359251886,\n",
       " 0.10907234198559458,\n",
       " 0.1069207374965073,\n",
       " 0.10493269479984675,\n",
       " 0.10308513418136679,\n",
       " 0.10136023278093562,\n",
       " 0.0997442674083948,\n",
       " 0.09822437878953297,\n",
       " 0.09678942967202601,\n",
       " 0.09533232064241383,\n",
       " 0.09380964532549586,\n",
       " 0.0923775502272661,\n",
       " 0.09098485459911006,\n",
       " 0.08968547405741131,\n",
       " 0.08849029169982696,\n",
       " 0.08735669311780184,\n",
       " 0.08627926463786904,\n",
       " 0.08525328940252441,\n",
       " 0.08427463587995,\n",
       " 0.08333814956815895,\n",
       " 0.08241411149042589,\n",
       " 0.08153024389997464,\n",
       " 0.08068368916335228,\n",
       " 0.07987189743084509,\n",
       " 0.07909281356176256,\n",
       " 0.07834526206183849,\n",
       " 0.07762656918006605,\n",
       " 0.07693499185756518,\n",
       " 0.07626921290548792,\n",
       " 0.07562710182014148,\n",
       " 0.07500746762026307,\n",
       " 0.07440907495706806,\n",
       " 0.07382195450720132,\n",
       " 0.07322927205035686,\n",
       " 0.07265783563471481,\n",
       " 0.07210591932843277,\n",
       " 0.07157483809617098,\n",
       " 0.0710640313478035,\n",
       " 0.07056957434589882,\n",
       " 0.07007766015576362,\n",
       " 0.06957562208544465,\n",
       " 0.06908938838591874,\n",
       " 0.06861817382687303,\n",
       " 0.06816129100393525,\n",
       " 0.06771809808862789,\n",
       " 0.06728799063902323,\n",
       " 0.06687043568020719,\n",
       " 0.0664495883055439,\n",
       " 0.06600927446742101,\n",
       " 0.06558199905554553,\n",
       " 0.06516720659435875,\n",
       " 0.06476437185434707,\n",
       " 0.06437299775580159,\n",
       " 0.06399261346360288,\n",
       " 0.06362277265039487,\n",
       " 0.06326305190872769,\n",
       " 0.06291304929547703,\n",
       " 0.06257238299413427,\n",
       " 0.06224069008251625,\n",
       " 0.06191763802684868,\n",
       " 0.06160289942393676,\n",
       " 0.061296145812141725,\n",
       " 0.06099707944486477,\n",
       " 0.060705416541489275,\n",
       " 0.060420890271621425,\n",
       " 0.060143243292784476,\n",
       " 0.05987222400925004,\n",
       " 0.059607597228893694,\n",
       " 0.059349138290220496,\n",
       " 0.05909663250331066,\n",
       " 0.05884987462549991,\n",
       " 0.05860866836920821,\n",
       " 0.0583728259395776,\n",
       " 0.058142167599784945,\n",
       " 0.05791652126208252,\n",
       " 0.05769572210279311,\n",
       " 0.057479612199623636,\n",
       " 0.057268040189804824,\n",
       " 0.0570609203549731,\n",
       " 0.056858137604601185,\n",
       " 0.05665946770480326,\n",
       " 0.056464784960369045,\n",
       " 0.056273970632065094,\n",
       " 0.056086900434202384,\n",
       " 0.055903461195567244,\n",
       " 0.05572393654569192,\n",
       " 0.05554844030065353,\n",
       " 0.055376219304577826,\n",
       " 0.055207181753570325,\n",
       " 0.05504123123485325,\n",
       " 0.054878299769635056,\n",
       " 0.05471830803065897,\n",
       " 0.05456114771755316,\n",
       " 0.054409088201267025,\n",
       " 0.054262930840420845,\n",
       " 0.05411921143345909,\n",
       " 0.053977864000182396,\n",
       " 0.05383882507055845,\n",
       " 0.05370203354899774,\n",
       " 0.05356743058952276,\n",
       " 0.0534349594806173,\n",
       " 0.05330456553871083,\n",
       " 0.05317619600938606,\n",
       " 0.05304979997551623,\n",
       " 0.052925328271644,\n",
       " 0.05280273340399499,\n",
       " 0.052681969475596044,\n",
       " 0.052562992116033984,\n",
       " 0.052445758415444084,\n",
       " 0.0523302268623634,\n",
       " 0.05221725644960057,\n",
       " 0.05210883115918394,\n",
       " 0.05200384598025332,\n",
       " 0.05190032611419686,\n",
       " 0.051798238204511744,\n",
       " 0.05169754996437889,\n",
       " 0.05159823012814919,\n",
       " 0.05150024840613,\n",
       " 0.05140357544234965,\n",
       " 0.051308182775012826,\n",
       " 0.05121404279939907,\n",
       " 0.051121128732981434,\n",
       " 0.051029414582572166,\n",
       " 0.05093887511332266,\n",
       " 0.0508494858194243,\n",
       " 0.05076122289637406,\n",
       " 0.0506740632146846,\n",
       " 0.05058798429492813,\n",
       " 0.05050296428401927,\n",
       " 0.05041898193264755,\n",
       " 0.05033601657378119]"
      ]
     },
     "execution_count": 72,
     "metadata": {},
     "output_type": "execute_result"
    }
   ],
   "source": [
    "loss_list"
   ]
  },
  {
   "cell_type": "code",
   "execution_count": 73,
   "metadata": {},
   "outputs": [
    {
     "data": {
      "text/plain": [
       "[<matplotlib.lines.Line2D at 0xfcebd8508>]"
      ]
     },
     "execution_count": 73,
     "metadata": {},
     "output_type": "execute_result"
    },
    {
     "data": {
      "image/png": "[encoded data removed]",
      "text/plain": [
       "<Figure size 432x288 with 1 Axes>"
      ]
     },
     "metadata": {
      "needs_background": "light"
     },
     "output_type": "display_data"
    }
   ],
   "source": [
    "plt.plot(loss_list)"
   ]
  },
  {
   "cell_type": "code",
   "execution_count": null,
   "metadata": {},
   "outputs": [],
   "source": []
  },
  {
   "cell_type": "code",
   "execution_count": 74,
   "metadata": {},
   "outputs": [],
   "source": [
    "#making prediction\n",
    "def predict(x):\n",
    "    z1 = x.dot(params['W1'])+ params['b1']\n",
    "    A1 = relu(z1)\n",
    "    z2 = A1.dot(params['W2'])+ params['b2']\n",
    "    y_hat= sigmoid(z2)\n",
    "    return np.round(y_hat)\n",
    "def accuracy(y,y_hat):\n",
    "    acc = (np.sum(y== y_hat)/len(y))* 100\n",
    "    return acc"
   ]
  },
  {
   "cell_type": "code",
   "execution_count": 75,
   "metadata": {},
   "outputs": [
    {
     "data": {
      "text/plain": [
       "98.21109123434705"
      ]
     },
     "execution_count": 75,
     "metadata": {},
     "output_type": "execute_result"
    }
   ],
   "source": [
    "pred = predict(x_train)\n",
    "accuracy(y_train,pred)"
   ]
  },
  {
   "cell_type": "code",
   "execution_count": 76,
   "metadata": {},
   "outputs": [
    {
     "data": {
      "text/plain": [
       "92.85714285714286"
      ]
     },
     "execution_count": 76,
     "metadata": {},
     "output_type": "execute_result"
    }
   ],
   "source": [
    "preds = predict(x_test)\n",
    "accuracy(y_test,preds)\n",
    "    "
   ]
  },
  {
   "cell_type": "markdown",
   "metadata": {},
   "source": [
    "# Neutral network using OOP"
   ]
  },
  {
   "cell_type": "code",
   "execution_count": 89,
   "metadata": {},
   "outputs": [],
   "source": [
    "class NeutralNet():\n",
    "    np.random.seed(3)\n",
    "    \n",
    "    \n",
    "    def __init__(self,layers=[9,4,1],learning_rate= 0.001,iterations=100):\n",
    "        self.layers = layers\n",
    "        self.learning_rate = learning_rate\n",
    "        self.iterations = iterations\n",
    "        self.params = {}\n",
    "        self.cost = []\n",
    "        self.x = None\n",
    "        self.y = None\n",
    "        \n",
    "    def _init_weights(self):\n",
    "        self.params['W1'] =  np.random.randn(self.layers[0],self.layers[1])\n",
    "        self.params['W2'] = np.random.randn(self.layers[1],self.layers[2])\n",
    "        self.params['b1'] = np.random.rand(self.layers[1])\n",
    "        self.params['b2'] = np.random.rand(self.layers[2])\n",
    "        \n",
    "    def _relu(self,z):\n",
    "        return np.maximum(0,z)\n",
    "\n",
    "    def _sigmoid(self,z):\n",
    "        return 1.0 / (1.0 + np.exp(-z))\n",
    "    \n",
    "    def _drelu(self,x):\n",
    "        x[x<=0] = 0\n",
    "        x[x>0]  = 1\n",
    "        return x\n",
    "    \n",
    "    def _binary_cross_entropy(y,y_hat):\n",
    "        cost = -1/len(y) * (np.sum(np.multiply(np.log(y_hat),y) + np.multiply((1-y),np.log(1-y_hat)))) \n",
    "        return cost\n",
    "    \n",
    "    def _foward_propagation(self):\n",
    "        z1 = self.x.dot(self.params['W1'])+ self.params['b1']\n",
    "        A1 = relu(z1)\n",
    "        z2 = A1.dot(self.params['W2'])+ self.params['b2']\n",
    "        y_hat= sigmoid(z2)\n",
    "        loss  = binary_cross_entropy(self.y,y_hat)\n",
    "        \n",
    "        #saved parameters\n",
    "        \n",
    "        self.params['z1'] = z1\n",
    "        self.params['A1'] = A1\n",
    "        self.params['z2'] = z2\n",
    "        \n",
    "        return y_hat , loss\n",
    "    \n",
    "    def _back_propagation(self,y_hat):\n",
    "        dl_wrt_y_hat = -(np.divide(self.y,y_hat) - np.divide((1-self.y),(1-y_hat)))\n",
    "        dl_wrt_z2 = dl_wrt_y_hat * (y_hat * (1-y_hat)) \n",
    "        dl_wrt_A1 = dl_wrt_z2.dot(self.params['W2'].T)\n",
    "        dl_wrt_w2 = self.params['A1'].T.dot(dl_wrt_z2)\n",
    "        dl_wrt_b2 = np.sum(dl_wrt_z2)\n",
    "        \n",
    "        \n",
    "        dl_wrt_z1 = dl_wrt_A1 * self._drelu(self.params['z1'])\n",
    "        dl_wrt_w1 = self.x.T.dot(dl_wrt_z1)\n",
    "        dl_wrt_b1 = np.sum(dl_wrt_z1,axis=0)\n",
    "        \n",
    "        \n",
    "         #update weights and biases\n",
    "        self.params['W1'] = self.params['W1'] - self.learning_rate * dl_wrt_w1\n",
    "        self.params['W2'] = self.params['W2'] - self.learning_rate * dl_wrt_w2\n",
    "        self.params['b1'] = self.params['b1'] - self.learning_rate * dl_wrt_b1\n",
    "        self.params['b2'] = self.params['b2'] - self.learning_rate * dl_wrt_b2\n",
    "        \n",
    "        \n",
    "    def fit(self,x,y):\n",
    "        self.x=x\n",
    "        self.y= y\n",
    "        self._init_weights()\n",
    "        \n",
    "        for i in range(self.iterations):\n",
    "            yhat,loss = self._foward_propagation()\n",
    "            self.cost.append(loss)\n",
    "            self._back_propagation(y_hat)\n",
    "            \n",
    "    def predict(self,x):\n",
    "        z1 = x.dot(self.params['W1'])+ self.params['b1']\n",
    "        A1 = relu(z1)\n",
    "        z2 = A1.dot(self.params['W2'])+ self.params['b2']\n",
    "        pred = sigmoid(z2)\n",
    "        return np.round(pred)\n",
    "    \n",
    "    def accuracy(self,y,y_hat):\n",
    "        acc = int (np.sum((y== y_hat)/len(y))* 100)\n",
    "        return acc\n",
    "        \n",
    "    def plot_loss(self):\n",
    "        plt.plot(self.cost)\n",
    "        plt.title(f\"Loss curve for {self.iterations} iterations\")\n",
    "        plt.xlabel(\"iterations\")\n",
    "        plt.ylabel(\"loss\")\n",
    "        plt.show()\n",
    "            \n",
    "\n"
   ]
  },
  {
   "cell_type": "code",
   "execution_count": 90,
   "metadata": {},
   "outputs": [
    {
     "data": {
      "text/plain": [
       "88"
      ]
     },
     "execution_count": 90,
     "metadata": {},
     "output_type": "execute_result"
    }
   ],
   "source": [
    "net = NeutralNet()\n",
    "net.fit(x_train,y_train)\n",
    "pred = net.predict(x_test)\n",
    "net.accuracy(pred,y_test)"
   ]
  },
  {
   "cell_type": "code",
   "execution_count": null,
   "metadata": {},
   "outputs": [],
   "source": []
  },
  {
   "cell_type": "code",
   "execution_count": null,
   "metadata": {},
   "outputs": [],
   "source": []
  }
 ],
 "metadata": {
  "kernelspec": {
   "display_name": "Python 3",
   "language": "python",
   "name": "python3"
  },
  "language_info": {
   "codemirror_mode": {
    "name": "ipython",
    "version": 3
   },
   "file_extension": ".py",
   "mimetype": "text/x-python",
   "name": "python",
   "nbconvert_exporter": "python",
   "pygments_lexer": "ipython3",
   "version": "3.7.6"
  }
 },
 "nbformat": 4,
 "nbformat_minor": 4
}
